{
 "cells": [
  {
   "cell_type": "markdown",
   "metadata": {},
   "source": [
    "1. write a program that allows a user to enter their favorite starter, main course, dessert and drink.\n",
    "b. output a message that says \"Your favorite meal is...with a glass of..."
   ]
  },
  {
   "cell_type": "code",
   "execution_count": 1,
   "metadata": {},
   "outputs": [
    {
     "name": "stdout",
     "output_type": "stream",
     "text": [
      "Your favorite meal is steak and fried eggs, with a glass of tiger-nut \n"
     ]
    }
   ],
   "source": [
    "favorite_starter = input(\"What is your favorite starter:\")\n",
    "main_course = input(\"What is your favorite course:\")\n",
    "dessert = input(\"What is your favorite dessert:\")\n",
    "drink = input(\"What is your favorite drink:\")\n",
    "\n",
    "print(f\"Your favorite meal is {main_course}, with a glass of {drink} \")\n",
    "\n"
   ]
  },
  {
   "cell_type": "markdown",
   "metadata": {},
   "source": [
    "2.write a program that inputs a students mark in an exam.\n",
    "a. if the mark is greater > or = 90, display grade A.\n",
    "b. if greater > or = 80, display grade A.\n",
    "c. if > or = 70, display B.\n",
    "d. if > or = 60, display C.\n",
    "e.Otherwise, display, \"Have another go\"."
   ]
  },
  {
   "cell_type": "code",
   "execution_count": 44,
   "metadata": {},
   "outputs": [
    {
     "name": "stdout",
     "output_type": "stream",
     "text": [
      "76.66666666666667: B\n"
     ]
    }
   ],
   "source": [
    "student_mark1 = int(input(\"type your exam mark\"))\n",
    "student_mark2 = int(input( \"type your exam mark:\"))\n",
    "student_mark3 = int(input(\"type your exam score:\"))\n",
    "\n",
    "average_marks = (student_mark1+student_mark2+student_mark3)/3\n",
    "avg_mark = average_marks\n",
    "\n",
    "if avg_mark >= 90:\n",
    "    print(f\"{avg_mark}:A*\")\n",
    "elif avg_mark >= 80:\n",
    "    print(f\"{avg_mark}: A\")\n",
    "elif avg_mark >= 70:\n",
    "    print(f\"{avg_mark}: B\")\n",
    "elif avg_mark >= 60:\n",
    "    print(f\"{avg_mark}: C\")\n",
    "else:\n",
    "    print(f\"Your score of {avg_mark} is low, have another go.\")"
   ]
  }
 ],
 "metadata": {
  "interpreter": {
   "hash": "bcffa6204622ef85947aebc6021b6d22848690e83046bed0c1de5e1c8674fbfb"
  },
  "kernelspec": {
   "display_name": "Python 3.10.0 64-bit",
   "language": "python",
   "name": "python3"
  },
  "language_info": {
   "codemirror_mode": {
    "name": "ipython",
    "version": 3
   },
   "file_extension": ".py",
   "mimetype": "text/x-python",
   "name": "python",
   "nbconvert_exporter": "python",
   "pygments_lexer": "ipython3",
   "version": "3.10.0"
  },
  "orig_nbformat": 4
 },
 "nbformat": 4,
 "nbformat_minor": 2
}
