{
 "cells": [
  {
   "cell_type": "markdown",
   "metadata": {},
   "source": [
    "1.Look closely at the three times table example. Write a similar program to calculate the fourtimes table."
   ]
  },
  {
   "cell_type": "code",
   "execution_count": 6,
   "metadata": {},
   "outputs": [
    {
     "name": "stdout",
     "output_type": "stream",
     "text": [
      "1 * 4 = 4\n",
      "2 * 4 = 8\n",
      "3 * 4 = 12\n",
      "4 * 4 = 16\n",
      "5 * 4 = 20\n",
      "6 * 4 = 24\n",
      "7 * 4 = 28\n",
      "8 * 4 = 32\n",
      "9 * 4 = 36\n",
      "10 * 4 = 40\n",
      "11 * 4 = 44\n",
      "12 * 4 = 48\n",
      "13 * 4 = 52\n",
      "14 * 4 = 56\n",
      "15 * 4 = 60\n",
      "16 * 4 = 64\n",
      "17 * 4 = 68\n",
      "18 * 4 = 72\n",
      "19 * 4 = 76\n",
      "20 * 4 = 80\n",
      "21 * 4 = 84\n",
      "22 * 4 = 88\n",
      "23 * 4 = 92\n"
     ]
    }
   ],
   "source": [
    "num = 1\n",
    "\n",
    "for four_times_table in range(4, 96, 4):\n",
    "    print(f\"{num} * 4 = {four_times_table}\")\n",
    "\n",
    "    num += 1\n"
   ]
  },
  {
   "cell_type": "markdown",
   "metadata": {},
   "source": [
    "2.Write a program that will calculate the fivetimes table."
   ]
  },
  {
   "cell_type": "code",
   "execution_count": 5,
   "metadata": {},
   "outputs": [
    {
     "name": "stdout",
     "output_type": "stream",
     "text": [
      "1 * 5 = 5\n",
      "2 * 5 = 10\n",
      "3 * 5 = 15\n",
      "4 * 5 = 20\n",
      "5 * 5 = 25\n",
      "6 * 5 = 30\n",
      "7 * 5 = 35\n",
      "8 * 5 = 40\n",
      "9 * 5 = 45\n",
      "10 * 5 = 50\n",
      "11 * 5 = 55\n",
      "12 * 5 = 60\n",
      "13 * 5 = 65\n",
      "14 * 5 = 70\n",
      "15 * 5 = 75\n",
      "16 * 5 = 80\n",
      "17 * 5 = 85\n",
      "18 * 5 = 90\n",
      "19 * 5 = 95\n"
     ]
    }
   ],
   "source": [
    "number = 1\n",
    "\n",
    "for five_times_table in range(5,100,5):\n",
    "    print(f\"{number} * 5 = {five_times_table}\")\n",
    "\n",
    "    number += 1"
   ]
  },
  {
   "cell_type": "markdown",
   "metadata": {},
   "source": [
    "\n",
    "3. Try writing a program that will prompt for an integer (whole number) and print the correct times table (up to 12x). Test with all the tables up to 12. "
   ]
  },
  {
   "cell_type": "code",
   "execution_count": 23,
   "metadata": {},
   "outputs": [
    {
     "name": "stdout",
     "output_type": "stream",
     "text": [
      "1 * 9 = 9\n",
      "2 * 9 = 18\n",
      "3 * 9 = 27\n",
      "4 * 9 = 36\n",
      "5 * 9 = 45\n",
      "6 * 9 = 54\n",
      "7 * 9 = 63\n",
      "8 * 9 = 72\n",
      "9 * 9 = 81\n",
      "10 * 9 = 90\n",
      "11 * 9 = 99\n",
      "12 * 9 = 108\n"
     ]
    }
   ],
   "source": [
    "\n",
    "times_table_of = int(input(\"Give me the times table of :\"))\n",
    "for i in range(1,13):\n",
    "   print(f\"{i} * {times_table_of} = {i*times_table_of}\")\n",
    "    "
   ]
  }
 ],
 "metadata": {
  "interpreter": {
   "hash": "ba94ccfae5e37bcb8d29daa868aee3cbdf9d39ae706be5572855ea6bcbaf118d"
  },
  "kernelspec": {
   "display_name": "Python 3.7.11 ('Data visualisation')",
   "language": "python",
   "name": "python3"
  },
  "language_info": {
   "codemirror_mode": {
    "name": "ipython",
    "version": 3
   },
   "file_extension": ".py",
   "mimetype": "text/x-python",
   "name": "python",
   "nbconvert_exporter": "python",
   "pygments_lexer": "ipython3",
   "version": "3.10.0"
  },
  "orig_nbformat": 4
 },
 "nbformat": 4,
 "nbformat_minor": 2
}
